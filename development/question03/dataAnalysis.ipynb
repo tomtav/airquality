{
 "cells": [
  {
   "cell_type": "code",
   "execution_count": null,
   "metadata": {},
   "outputs": [],
   "source": [
    "# Tree.csv"
   ]
  },
  {
   "cell_type": "code",
   "execution_count": 3,
   "metadata": {},
   "outputs": [],
   "source": [
    "# Dependencies and Setup\n",
    "import pandas as pd\n",
    "\n",
    "# Path to Data File\n",
    "tree_data_path = \"data/Tree.csv\"\n",
    "\n",
    "tree_data = pd.read_csv(tree_data_path, low_memory=False)"
   ]
  },
  {
   "cell_type": "raw",
   "metadata": {},
   "source": [
    "tree_data"
   ]
  },
  {
   "cell_type": "code",
   "execution_count": 62,
   "metadata": {},
   "outputs": [],
   "source": [
    "cols = tree_data.columns"
   ]
  },
  {
   "cell_type": "markdown",
   "metadata": {},
   "source": [
    "### Investigate"
   ]
  },
  {
   "cell_type": "code",
   "execution_count": 53,
   "metadata": {},
   "outputs": [],
   "source": [
    "key = \"bin\""
   ]
  },
  {
   "cell_type": "code",
   "execution_count": 61,
   "metadata": {},
   "outputs": [
    {
     "name": "stdout",
     "output_type": "stream",
     "text": [
      "Total Unique values of the Column:  bin   =  300283\n"
     ]
    }
   ],
   "source": [
    "count = len(tree_data[key].unique())\n",
    "print(f\"Total Unique values of the Column: \", key, \"  = \", count)"
   ]
  },
  {
   "cell_type": "code",
   "execution_count": 68,
   "metadata": {},
   "outputs": [
    {
     "name": "stdout",
     "output_type": "stream",
     "text": [
      "Unique values of Column:  OBJECTID  =  592372\n",
      "Unique values of Column:  cen_year  =  3\n",
      "Unique values of Column:  tree_dbh  =  146\n",
      "Unique values of Column:  address  =  335628\n",
      "Unique values of Column:  tree_loc  =  9\n",
      "Unique values of Column:  pit_type  =  4\n",
      "Unique values of Column:  soil_lvl  =  3\n",
      "Unique values of Column:  status  =  4\n",
      "Unique values of Column:  spc_latin  =  169\n",
      "Unique values of Column:  spc_common  =  169\n",
      "Unique values of Column:  vert_other  =  2\n",
      "Unique values of Column:  vert_pgrd  =  2\n",
      "Unique values of Column:  vert_tgrd  =  2\n",
      "Unique values of Column:  vert_wall  =  2\n",
      "Unique values of Column:  horz_blck  =  2\n",
      "Unique values of Column:  horz_grate  =  2\n",
      "Unique values of Column:  horz_plant  =  2\n",
      "Unique values of Column:  horz_other  =  2\n",
      "Unique values of Column:  sidw_crack  =  2\n",
      "Unique values of Column:  sidw_raise  =  2\n",
      "Unique values of Column:  wire_htap  =  2\n",
      "Unique values of Column:  wire_prime  =  2\n",
      "Unique values of Column:  wire_2nd  =  2\n",
      "Unique values of Column:  wire_other  =  2\n",
      "Unique values of Column:  inf_canopy  =  2\n",
      "Unique values of Column:  inf_guard  =  2\n",
      "Unique values of Column:  inf_wires  =  2\n",
      "Unique values of Column:  inf_paving  =  2\n",
      "Unique values of Column:  inf_outlet  =  2\n",
      "Unique values of Column:  inf_shoes  =  2\n",
      "Unique values of Column:  inf_lights  =  2\n",
      "Unique values of Column:  inf_other  =  2\n",
      "Unique values of Column:  trunk_dmg  =  5\n",
      "Unique values of Column:  zipcode  =  188\n",
      "Unique values of Column:  zip_city  =  53\n",
      "Unique values of Column:  cb_num  =  68\n",
      "Unique values of Column:  borocode  =  5\n",
      "Unique values of Column:  boroname  =  5\n",
      "Unique values of Column:  cncldist  =  52\n",
      "Unique values of Column:  st_assem  =  66\n",
      "Unique values of Column:  st_senate  =  27\n",
      "Unique values of Column:  nta  =  194\n",
      "Unique values of Column:  nta_name  =  194\n",
      "Unique values of Column:  boro_ct  =  2122\n",
      "Unique values of Column:  state  =  1\n",
      "Unique values of Column:  latitude  =  266315\n",
      "Unique values of Column:  longitude  =  266841\n",
      "Unique values of Column:  x_sp  =  105340\n",
      "Unique values of Column:  y_sp  =  108404\n",
      "Unique values of Column:  objectid_1  =  592372\n",
      "Unique values of Column:  census tract  =  1322\n",
      "Unique values of Column:  bin  =  300283\n",
      "Unique values of Column:  bbl  =  291410\n",
      "Unique values of Column:  Location 1  =  268078\n"
     ]
    }
   ],
   "source": [
    "for key in cols:\n",
    "    count = len(tree_data[key].unique())\n",
    "    print(f\"Unique values of Column: \", key, \" = \", count)"
   ]
  },
  {
   "cell_type": "code",
   "execution_count": 81,
   "metadata": {},
   "outputs": [
    {
     "name": "stdout",
     "output_type": "stream",
     "text": [
      "\n",
      "\n",
      "Unique Values for Column : OBJECTID   =  592372\n",
      "******************************************************************\n",
      "[ 592373  592374  592375 ... 1184742 1184743 1184744]\n",
      "\n",
      "\n",
      "Unique Values for Column : cen_year   =  3\n",
      "******************************************************************\n",
      "[2005 2006    0]\n",
      "\n",
      "\n",
      "Unique Values for Column : tree_dbh   =  146\n",
      "******************************************************************\n",
      "[   6   13   15   21   19   11   14    3    7   26   20    4   10   12\n",
      "   16    5    9    8    2   17    1   27   22   18    0   23   37   28\n",
      "   24   25   36   34   30   29   31   32   35   33   41   40   49   61\n",
      "   54   47   43   44   45   52   55   39   53   57   62   58   51   38\n",
      "   69   64   85   71   80   42   90   72   56   86  505   63   50   59\n",
      "   48   46  100   60   67   74   94   65   99   83   78   97  136  179\n",
      "   70  190  104   66  116   -1   95   96   84   68   81   82  112  108\n",
      "  118   91   87  110  181   76   77   79   88   73   93   75  111   98\n",
      "  101 1222  146  107  129  144   89  105 1635  405 1605   92  125  103\n",
      "  120  106  109  132  113  117  818  211  224  114  150  102 2100  138\n",
      "  140  115  135  220  124  130]\n",
      "\n",
      "\n",
      "Unique Values for Column : address   =  335628\n",
      "******************************************************************\n",
      "['1139 57 STREET' '2220 BERGEN AVENUE' '2360 BERGEN AVENUE' ...\n",
      " '77 BOGOTA STREET' '62 LEWISTON STREET' '68 LEWISTON STREET']\n",
      "\n",
      "\n",
      "Unique Values for Column : tree_loc   =  9\n",
      "******************************************************************\n",
      "['Front' 'Across' 'Side' 'Rear' 'Side/Across' 'Median' 'Assigned'\n",
      " 'Adjacent' 'Side/Median']\n",
      "\n",
      "\n",
      "Unique Values for Column : pit_type   =  4\n",
      "******************************************************************\n",
      "['Sidewalk Pit' 'Continuous Pit' 'Lawn' ' ']\n",
      "\n",
      "\n",
      "Unique Values for Column : soil_lvl   =  3\n",
      "******************************************************************\n",
      "['Level' 'Above' 'Below']\n",
      "\n",
      "\n",
      "Unique Values for Column : status   =  4\n",
      "******************************************************************\n",
      "['Good' 'Poor' 'Excellent' 'Dead']\n",
      "\n",
      "\n",
      "Unique Values for Column : spc_latin   =  169\n",
      "******************************************************************\n",
      "['PYRUS CALLERYANA' 'PLATANUS ACERIFOLIA'\n",
      " 'ACER PLATANOIDES          CRIMSON KING' 'CRATAEGUS SPECIES'\n",
      " 'ACER PLATANOIDES' 'GLEDITSIA TRIACANTHOS' 'TILIA CORDATA' 'UNKNOWN'\n",
      " 'GINKGO BILOBA' 'KOELREUTERIA PANICULATA' 'CORNUS FLORIDA'\n",
      " 'ACER PSEUDOPLATANUS' 'ACER RUBRUM' 'PRUNUS CERASIFERA' 'ZELKOVA SERRATA'\n",
      " 'QUERCUS PALUSTRIS' 'FRAXINUS PENNSYLVANICA' 'SYRINGA RETICULATA'\n",
      " 'PRUNUS SPECIES' 'ACER GINNALA' 'STYPHNOLOBIUM JAPONICUM'\n",
      " 'CERCIDIPHYLLUM JAPONICUM' 'QUERCUS RUBRA' 'Unknown Dead'\n",
      " 'ULMUS AMERICANA' 'ULMUS PARVIFOLIA' 'TILIA TOMENTOSA' 'QUERCUS ALBA'\n",
      " 'TILIA AMERICANA' 'QUERCUS BICOLOR' 'AILANTHUS ALTISSIMA'\n",
      " 'METASEQUOIA GLYPTOSTROBOIDES' 'QUERCUS ACUTISSIMA'\n",
      " 'ROBINIA PSEUDOACACIA' 'QUERCUS PHELLOS' 'CARPINUS CAROLINIANA'\n",
      " 'CERCIS CANADENSIS' 'GYMNOCLADUS DIOICUS'\n",
      " 'PRUNUS VIRGINIANA           SHUBERT' 'ACER SACCHARINUM'\n",
      " 'CELTIS OCCIDENTALIS' 'TAXODIUM DISTICHUM' 'CARPINUS BETULUS'\n",
      " 'POPLAR SPECIES' 'ACER CAMPESTRE' 'MORUS' 'ULMUS SPECIES' 'ACER PALMATUM'\n",
      " 'MAGNOLIA SPECIES' 'MALUS SPECIES' 'QUERCUS SPECIES' 'ULMUS PUMILA'\n",
      " 'LIQUIDAMBAR STYRACIFLUA' 'QUERCUS LAURIFOLIA' 'ILEX SPECIES'\n",
      " 'QUERCUS ROBUR' 'LIRIODENDRON TULIPIFERA'\n",
      " 'PRUNUS SERRULATA            KWANZAN' 'TILIA SPECIES' 'BETULA SPECIES'\n",
      " 'ACER SPECIES' 'AESCULUS HIPPOCASTANUM' 'PINUS THUNBERGII'\n",
      " 'ACER SACCHARUM' 'PINUS STROBUS' 'PINUS SPECIES' 'CORNUS KOUSA'\n",
      " 'PICEA SPECIES' 'ACER NEGUNDO' 'AMELANCHIER SPECIES' 'TSUGA CANADENSIS'\n",
      " 'QUERCUS LAEVIS' 'MALUS PUMILA' 'QUERCUS MACROCARPA'\n",
      " 'DIOSPYROS VIRGINIANA' 'CARYA' 'CLADRASTIS LUTEA' 'SALIX SPECIES'\n",
      " 'QUERCUS COCCINEA' 'FRAXINUS SPECIES' 'HALESIA DIPTERA'\n",
      " 'FAGUS GRANDIFOLIA' 'FRAXINUS AMERICANA' 'PSEUDOTSUGA MENZIESII'\n",
      " 'STYRAX JAPONICA' 'PICEA PUNGENS' 'ULMUS PROCERA' 'PINUS RESINOSA'\n",
      " 'CEDRUS ATLANTICA' 'JUNIPERUS VIRGINIANA' 'THUJA OCCIDENTALIS' 'CATALPA'\n",
      " 'PICEA ABIES' 'CASTANEA MOLLISSIMA' 'EUCOMMIA ULMOIDES' 'PRUNUS PERSICA'\n",
      " 'PYRUS COMMUNIS' 'PRUNUS SEROTINA' 'NYSSA SYLVATICA' 'ALNUS GLUTINOSA'\n",
      " 'POPULUS NIGRA' 'POPULUS DELTOIDES' 'QUERCUS FALCATA' 'ULMUS RUBRA'\n",
      " 'PHELLODENDRON AMURENSE' 'ALBIZIA JULIBRISSIN' 'CORNUS'\n",
      " 'ACER BUERGERIANUM' 'QUERCUS IMBRICARIA' 'PINUS VIRGINIANA'\n",
      " 'JUGLANS NIGRA' 'JUNIPERUS RECURVA' 'PINUS ECHINATA' 'PINUS NIGRA'\n",
      " 'HAMAMELIS VIRGINIANA' 'FAGUS SYLVATICA' 'AESCULUS X CARNEA'\n",
      " 'PAULOWNIA TOMENTOSA' 'MAACKIA AMURENSIS' 'SALIX BABYLONICA' 'LARIX'\n",
      " 'SORBUS AMERICANA' 'MAGNOLIA GRANDIFLORA' 'MACLURA POMIFERA'\n",
      " 'SASSAFRAS ALBIDUM' 'BETULA PENDULA' 'CORNUS MAS' 'LABURNUM WATERERI'\n",
      " 'ACER GRISEUM' 'OSTRYA VIRGINIANA' 'BETULA PAPYRIFERA' 'LARIX LARICINA'\n",
      " 'CORNUS AMOMUM' 'ULMUS THOMASII' 'QUERCUS VELUTINA' 'AESCULUS GLABRA'\n",
      " 'OXYDENDRUM ARBOREUM' 'TAXODIUM ASCENDENS' 'BETULA NIGRA'\n",
      " 'PINUS SYLVESTRIS' 'QUERCUS STELLATA' 'JUNIPERUS' 'POPULUS TREMULOIDES'\n",
      " 'SALIX MATSUDANA' 'HALESIA CAROLINIANA' 'ACER TATARICUM' 'ACER NIGRUM'\n",
      " 'CORYLUS COLURNA' 'PINUS RIGIDA' 'CHAMAECYPARIS THYOIDES'\n",
      " 'BETULA ALLEGHANIENSIS' 'MAGNOLIA ACUMINATA' 'TAXODIUM'\n",
      " 'CARYA ILLINOINENSIS' 'ULMUS ALATA' 'CORNUS ALTERNIFLORA' 'CARYA GLABRA'\n",
      " 'POPULUS GRANDIDENTATA' 'SALIX' 'ELAEAGNUS ANGUSTIFOLIA' 'ABIES BALSAMEA'\n",
      " 'ABIES CONCOLOR' 'PINUS MUGO' 'COTINUS COGGYGRIA' 'CASTANEA DENTATA'\n",
      " 'SORBUS ALNIFOLIA' 'CHAMAECYPARIS PISIFERA' 'CEDRUS DEODARA'\n",
      " 'CARYA OVATA']\n",
      "\n",
      "\n",
      "Unique Values for Column : spc_common   =  169\n",
      "******************************************************************\n",
      "['PEAR, CALLERY' 'LONDON PLANETREE' 'MAPLE, NORWAY-CR KNG'\n",
      " 'HAWTHORN, OTHER' 'MAPLE, NORWAY' 'HONEYLOCUST' 'LINDEN, LITTLE LEAF'\n",
      " 'UNKNOWN' 'GINKGO' 'GOLDENRAIN TREE' 'DOGWOOD, FLOWERING'\n",
      " 'MAPLE, SYCAMORE' 'MAPLE, RED' 'PLUM, PURPLELEAF' 'ZELKOVA, JAPANESE'\n",
      " 'OAK, PIN' 'ASH, GREEN' 'JAPANESE TREE LILAC' 'CHERRY, OTHER'\n",
      " 'MAPLE, AMUR' 'JAPANESE PAGODA TREE' 'KATSURA TREE' 'OAK, NORTHERN RED'\n",
      " 'Unknown Dead' 'ELM, AMERICAN' 'ELM, CHINESE' 'LINDEN, SILVER'\n",
      " 'OAK, WHITE' 'LINDEN, AMERICAN' 'OAK, SWAMP WHITE' 'TREE OF HEAVEN'\n",
      " 'DAWN REDWOOD' 'OAK, SAWTOOTH' 'BLACK LOCUST' 'OAK, WILLOW'\n",
      " 'HORNBEAM, AMERICAN' 'REDBUD, EASTERN' 'KENTUCKY COFFEETREE'\n",
      " 'CHOKECHERRY, SHUBERT' 'MAPLE, SILVER' 'HACKBERRY' 'BALDCYPRESS'\n",
      " 'HORNBEAM, EUROPEAN' 'POPLAR, OTHER' 'MAPLE, HEDGE' 'MULBERRY'\n",
      " 'ELM, OTHER' 'MAPLE, JAPANESE' 'MAGNOLIA, OTHER' 'CRABAPPLE' 'OAK, OTHER'\n",
      " 'ELM, SIBERIAN' 'SWEETGUM' 'OAK, LAUREL' 'HOLLY SPECIES' 'OAK, ENGLISH'\n",
      " 'TULIP TREE' 'CHERRY, KWANZAN' 'LINDEN, OTHER' 'BIRCH, OTHER'\n",
      " 'MAPLE, OTHER' 'HORSECHESTNUT' 'PINE, JAPANESE BLACK' 'MAPLE, SUGAR'\n",
      " 'PINE, EASTERN WHITE' 'PINE, OTHER' 'DOGWOOD, KOUSA' 'SPRUCE, OTHER'\n",
      " 'BOXELDER' 'SERVICEBERRY, OTHER' 'HEMLOCK, EASTERN' 'OAK, TURKEY' 'APPLE'\n",
      " 'OAK, BUR' 'PERSIMMON, COMMON' 'HICKORY' 'YELLOWOOD' 'WILLOW SPECIES'\n",
      " 'OAK, SCARLET' 'ASH, OTHER' 'SILVERBELL' 'BEECH, AMERICAN' 'ASH, WHITE'\n",
      " 'DOUGLAS FIR' 'SNOWBELL, JAPANESE' 'SPRUCE, COLORADO' 'ELM, ENGLISH'\n",
      " 'PINE, RED' 'CEDAR, ATLAS' 'EASTERN REDCEDAR' 'ARBORVITAE, EASTERN'\n",
      " 'CATALPA' 'SPRUCE, NORWAY' 'CHESTNUT, CHINESE' 'HARDY RUBBER TREE'\n",
      " 'PEACH TREE' 'COMMON PEAR' 'CHERRY, BLACK' 'BLACKGUM' 'ALDER, EUROPEAN'\n",
      " 'POPLAR, LOMBARDY' 'COTTONWOOD, EASTERN' 'OAK, SOUTHERN RED'\n",
      " 'ELM, SLIPPERY' 'AMUR CORKTREE' 'MIMOSA' 'DOGWOOD SPP.' 'MAPLE, TRIDENT'\n",
      " 'OAK, SHINGLE' 'PINE, VIRGINIA' 'WALNUT, BLACK' 'DROOPING JUNIPER'\n",
      " 'PINE, SHORTLEAF' 'PINE, AUSTRIAN' 'WITCH HAZEL' 'BEECH, EUROPEAN'\n",
      " 'HORSECHESTNUT, RED' 'ROYAL PAULOWNIA' 'MAACKIA,AMUR' 'WEEPING WILLOW'\n",
      " 'LARCH' 'MOUNTAINASH, AMERICAN' 'MAGNOLIA, SOUTHERN' 'OSAGE-ORANGE'\n",
      " 'SASSAFRAS' 'BIRCH, EUROPEAN WHITE' 'CHERRY, CORNELIAN'\n",
      " 'GOLDEN-CHAIN TREE' 'MAPLE, PAPERBACK' 'EASTERN HOP HORNBEAM'\n",
      " 'BIRCH, PAPER' 'TAMARACK' 'DOGWOOD, SILKY' 'ELM, ROCK' 'OAK, BLACK'\n",
      " 'OHIO BUCKEYE' 'SOURWOOD' 'PONDCYPRESS' 'BIRCH, RIVER' 'PINE, SCOTCH'\n",
      " 'OAK, POST' 'JUNIPER SPP.' 'QUAKING ASPEN' 'CORKSCREW WILLOW'\n",
      " 'CAROLINA SILVERBELL' 'MAPLE, TATARIAN' 'MAPLE, BLACK' 'TURKISH HAZELNUT'\n",
      " 'PINE, PITCH' 'ATLANTIC WHITECEDAR' 'BIRCH, YELLOW' 'CUCUMBER TREE'\n",
      " 'BALDCYPRESS SPECIES' 'PECAN' 'ELM, WINGED' 'DOGWOOD, ALTERNATE-LEAVED'\n",
      " 'HICKORY, PIGNUT' 'ASPEN, BIGTOOTH' 'WILLOW ?' 'RUSSIAN OLIVE'\n",
      " 'FIR, BALSAM' 'FIR, WHITE' 'PINE, MUGO' 'AMERICAN SMOKETREE'\n",
      " 'CHESTNUT, AMERICAN' 'MOUNTAINASH, KOREAN' 'FALSECYPRESS, JAPANESE'\n",
      " 'CEDAR, DEODAR' 'HICKORY, SHAGBARK']\n",
      "\n",
      "\n",
      "Unique Values for Column : vert_other   =  2\n",
      "******************************************************************\n",
      "['No' 'Yes']\n",
      "\n",
      "\n",
      "Unique Values for Column : vert_pgrd   =  2\n",
      "******************************************************************\n",
      "['No' 'Yes']\n"
     ]
    },
    {
     "name": "stdout",
     "output_type": "stream",
     "text": [
      "\n",
      "\n",
      "Unique Values for Column : vert_tgrd   =  2\n",
      "******************************************************************\n",
      "['No' 'Yes']\n",
      "\n",
      "\n",
      "Unique Values for Column : vert_wall   =  2\n",
      "******************************************************************\n",
      "['No' 'Yes']\n",
      "\n",
      "\n",
      "Unique Values for Column : horz_blck   =  2\n",
      "******************************************************************\n",
      "['No' 'Yes']\n",
      "\n",
      "\n",
      "Unique Values for Column : horz_grate   =  2\n",
      "******************************************************************\n",
      "['No' 'Yes']\n",
      "\n",
      "\n",
      "Unique Values for Column : horz_plant   =  2\n",
      "******************************************************************\n",
      "['Yes' 'No']\n",
      "\n",
      "\n",
      "Unique Values for Column : horz_other   =  2\n",
      "******************************************************************\n",
      "['No' 'Yes']\n",
      "\n",
      "\n",
      "Unique Values for Column : sidw_crack   =  2\n",
      "******************************************************************\n",
      "['No' 'Yes']\n",
      "\n",
      "\n",
      "Unique Values for Column : sidw_raise   =  2\n",
      "******************************************************************\n",
      "['No' 'Yes']\n",
      "\n",
      "\n",
      "Unique Values for Column : wire_htap   =  2\n",
      "******************************************************************\n",
      "['No' 'Yes']\n",
      "\n",
      "\n",
      "Unique Values for Column : wire_prime   =  2\n",
      "******************************************************************\n",
      "['Yes' 'No']\n",
      "\n",
      "\n",
      "Unique Values for Column : wire_2nd   =  2\n",
      "******************************************************************\n",
      "['No' 'Yes']\n",
      "\n",
      "\n",
      "Unique Values for Column : wire_other   =  2\n",
      "******************************************************************\n",
      "['No' 'Yes']\n",
      "\n",
      "\n",
      "Unique Values for Column : inf_canopy   =  2\n",
      "******************************************************************\n",
      "['No' 'Yes']\n",
      "\n",
      "\n",
      "Unique Values for Column : inf_guard   =  2\n",
      "******************************************************************\n",
      "['No' 'Yes']\n",
      "\n",
      "\n",
      "Unique Values for Column : inf_wires   =  2\n",
      "******************************************************************\n",
      "['No' 'Yes']\n",
      "\n",
      "\n",
      "Unique Values for Column : inf_paving   =  2\n",
      "******************************************************************\n",
      "['No' 'Yes']\n",
      "\n",
      "\n",
      "Unique Values for Column : inf_outlet   =  2\n",
      "******************************************************************\n",
      "['No' 'Yes']\n",
      "\n",
      "\n",
      "Unique Values for Column : inf_shoes   =  2\n",
      "******************************************************************\n",
      "['No' 'Yes']\n",
      "\n",
      "\n",
      "Unique Values for Column : inf_lights   =  2\n",
      "******************************************************************\n",
      "['No' 'Yes']\n",
      "\n",
      "\n",
      "Unique Values for Column : inf_other   =  2\n",
      "******************************************************************\n",
      "['No' 'Yes']\n",
      "\n",
      "\n",
      "Unique Values for Column : trunk_dmg   =  5\n",
      "******************************************************************\n",
      "['None' 'Cavity' 'Trunk Wound' 'Torn Bark' ' ']\n",
      "\n",
      "\n",
      "Unique Values for Column : zipcode   =  188\n",
      "******************************************************************\n",
      "[11219 11234 10003 10006 10004 10032     0 10014 10009 10012 10024 10002\n",
      " 10029 10019 10013 10023 10007 10026 10027 10035 10065 10025 10128 10011\n",
      " 10021 10022 10075 10036 10030 10017 10028 10010 10001 10040 10031 10016\n",
      " 10033 10038 10039 10005 10018 10037 10034 10020 10280 10044 10463 10461\n",
      " 11364 11414 10470 11426 10474 11362 10465 10467 10458 10464 10451 10459\n",
      " 10452 10472 10468 10453 10457 10469 10466 10550 10475 10471 10462 10460\n",
      " 10473 10455 10454 10803 10456 10704 11434 11375 11417 11365 11385 11373\n",
      " 11693 11356 11357 11235 11223 11203 11236 11210 11225 11413 11355 11415\n",
      " 11360 11374 11367 11420 11105 11377 11358 11366 11694 11379 11103 11102\n",
      " 11104 11363 11421 11427 11419 11004 11354 11416 11432 11429 11433 11106\n",
      " 11369 11423 11370 11691 11435 11368 11378 11697 11411 11422 11412 11101\n",
      " 11692 11208 11205 11214 11207 11212 11229 11230 11209 11213 11233 11201\n",
      " 11231 11238 11221 11226 11224 11228 11217 11218 11237 11211 11204 11215\n",
      " 11220 11216 11222 11206 11232 11239 11251 11436 11418 11361 11428 11040\n",
      " 11372 11559 11001 11096 11430 11005 11359 11580 10308 10312 10314 10301\n",
      " 10306 10309 10303 10307 10302 10310 10304 10305]\n",
      "\n",
      "\n",
      "Unique Values for Column : zip_city   =  53\n",
      "******************************************************************\n",
      "['Brooklyn' 'New York' nan 'Bronx' 'Oakland Gardens' 'Howard Beach'\n",
      " 'Bellerose' 'Little Neck' 'Mount Vernon' 'Pelham' 'Yonkers' 'Jamaica'\n",
      " 'Forest Hills' 'Ozone Park' 'Fresh Meadows' 'Ridgewood' 'Elmhurst'\n",
      " 'Far Rockaway' 'College Point' 'Whitestone' 'Springfield Gardens'\n",
      " 'Flushing' 'Kew Gardens' 'Bayside' 'Rego Park' 'South Ozone Park'\n",
      " 'Astoria' 'Woodside' 'Rockaway Park' 'Middle Village' 'Sunnyside'\n",
      " 'Woodhaven' 'Queens Village' 'South Richmond Hill' 'Glen Oaks'\n",
      " 'East Elmhurst' 'Hollis' 'Corona' 'Maspeth' 'Breezy Point'\n",
      " 'Cambria Heights' 'Rosedale' 'Saint Albans' 'Long Island City' 'Arverne'\n",
      " 'Richmond Hill' 'New Hyde Park' 'Jackson Heights' 'Lawrence'\n",
      " 'Floral Park' 'Inwood' 'Valley Stream' 'Staten Island']\n",
      "\n",
      "\n",
      "Unique Values for Column : cb_num   =  68\n",
      "******************************************************************\n",
      "[312 318 103 101 112   0 102 109 107 111 104 110 108 106 105 164 208 211\n",
      " 411 410 212 413 202 210 207 204 209 205 206 201 203 226 227 412 406 404\n",
      " 315 313 317 314 309 308 407 409 414 408 401 402 405 403 305 355 310 307\n",
      " 303 306 311 302 301 316 304 481 482 480 503 502 501 595]\n",
      "\n",
      "\n",
      "Unique Values for Column : borocode   =  5\n",
      "******************************************************************\n",
      "[3 1 2 4 5]\n",
      "\n",
      "\n",
      "Unique Values for Column : boroname   =  5\n",
      "******************************************************************\n",
      "['Brooklyn' 'Manhattan' 'Bronx' 'Queens' '5']\n",
      "\n",
      "\n",
      "Unique Values for Column : cncldist   =  52\n",
      "******************************************************************\n",
      "[44 46  2  1  7  0  3  6  8  9  5 10  4 11 13 23 32 17 15 18 14 12 16 27\n",
      " 29 25 48 47 45 35 41 31 20 19 28 24 21 22 26 30 34 37 42 39 38 40 43 36\n",
      " 33 50 51 49]\n",
      "\n",
      "\n",
      "Unique Values for Column : st_assem   =  66\n",
      "******************************************************************\n",
      "[48 59 66 65 71  0 67 74 69 68 70 76 72 73 75 81 80 24 23 25 83 33 84 26\n",
      " 82 78 85 87 86 77 79 29 28 35 39 45 46 58 42 43 57 27 32 34 31 36 37 38\n",
      " 30 54 41 56 55 44 49 47 51 52 50 53 60 64 40 63 61 62]\n",
      "\n",
      "\n",
      "Unique Values for Column : st_senate   =  27\n",
      "******************************************************************\n",
      "[17 19 27 26 31  0 29 30 28 34 16 11 15 36 32 33 14 13 22 23 21 20 10 12\n",
      " 18 25 24]\n",
      "\n",
      "\n",
      "Unique Values for Column : nta   =  194\n",
      "******************************************************************\n",
      "['BK88' 'BK45' 'MN22' 'MN25' 'MN36' ' ' 'MN23' 'MN04' 'MN12' 'MN28' 'MN33'\n",
      " 'MN15' 'MN14' 'MN24' 'MN11' 'MN34' 'MN32' 'MN27' 'MN31' 'MN09' 'MN06'\n",
      " 'MN40' 'MN13' 'MN03' 'MN19' 'MN20' 'MN17' 'MN21' 'MN35' 'MN99' 'MN50'\n",
      " 'MN01' 'BX29' 'BX49' 'QN42' 'QN57' 'BX62' 'QN43' 'BX27' 'QN45' 'BX52'\n",
      " 'BX43' 'BX05' 'BX07' 'BX22' 'BX10' 'BX63' 'BX26' 'BX55' 'BX40' 'BX30'\n",
      " 'BX36' 'BX06' 'BX17' 'BX01' 'BX28' 'BX31' 'BX44' 'BX13' 'BX37' 'BX08'\n",
      " 'BX59' 'BX41' 'BX09' 'BX03' 'BX34' 'BX39' 'BX75' 'BX33' 'BX99' 'BX46'\n",
      " 'BX35' 'BX14' 'QN08' 'QN17' 'QN29' 'BK17' 'BK26' 'BK96' 'BK50' 'BK43'\n",
      " 'BK63' 'BK60' 'BK61' 'QN66' 'QN62' 'QN60' 'QN10' 'QN47' 'QN46' 'QN02'\n",
      " 'QN48' 'QN37' 'QN55' 'QN72' 'QN63' 'QN52' 'QN20' 'QN31' 'QN51' 'QN23'\n",
      " 'QN38' 'QN19' 'QN21' 'QN18' 'QN70' 'QN49' 'QN53' 'QN99' 'QN50' 'QN01'\n",
      " 'QN61' 'QN28' 'QN15' 'QN26' 'QN54' 'QN12' 'BK83' 'BK82' 'BK25' 'BK58'\n",
      " 'BK99' 'BK34' 'BK21' 'BK30' 'BK75' 'BK35' 'BK37' 'BK27' 'BK28' 'BK33'\n",
      " 'BK44' 'BK29' 'BK64' 'BK95' 'BK42' 'BK38' 'BK09' 'BK68' 'BK69' 'BK90'\n",
      " 'BK41' 'BK81' 'BK78' 'BK76' 'BK73' 'BK31' 'BK32' 'BK79' 'BK19' 'BK23'\n",
      " 'BK91' 'BK46' 'BK85' 'BK72' 'BK40' 'BK93' 'BK77' 'QN71' 'QN27' 'QN41'\n",
      " 'QN25' 'QN56' 'QN06' 'QN22' 'QN30' 'QN68' 'QN44' 'QN34' 'QN05' 'QN07'\n",
      " 'QN33' 'QN76' 'QN35' 'QN03' 'QN98' 'SI25' 'SI45' 'SI36' 'SI48' 'SI22'\n",
      " 'SI08' 'SI35' 'SI11' 'SI01' 'SI05' 'SI32' 'SI24' 'SI54' 'SI14' 'SI07'\n",
      " 'SI28' 'SI12' 'SI37']\n",
      "\n",
      "\n",
      "Unique Values for Column : nta_name   =  194\n",
      "******************************************************************\n",
      "['Borough Park' 'Georgetown-Marine Park-Bergen Beach-Mill Basin'\n",
      " 'East Village' 'Battery Park City-Lower Manhattan'\n",
      " 'Washington Heights South' ' ' 'West Village' 'Hamilton Heights'\n",
      " 'Upper West Side' 'Lower East Side' 'East Harlem South' 'Clinton'\n",
      " 'Lincoln Square' 'SoHo-TriBeCa-Civic Center-Little Italy'\n",
      " 'Central Harlem South' 'East Harlem North' 'Yorkville' 'Chinatown'\n",
      " 'Lenox Hill-Roosevelt Island' 'Morningside Heights' 'Manhattanville'\n",
      " 'Upper East Side-Carnegie Hill'\n",
      " 'Hudson Yards-Chelsea-Flatiron-Union Square'\n",
      " 'Central Harlem North-Polo Grounds' 'Turtle Bay-East Midtown'\n",
      " 'Murray Hill-Kips Bay' 'Midtown-Midtown South' 'Gramercy'\n",
      " 'Washington Heights North' 'park-cemetery-etc-Manhattan'\n",
      " 'Stuyvesant Town-Cooper Village' 'Marble Hill-Inwood'\n",
      " 'Spuyten Duyvil-Kingsbridge' 'Pelham Parkway' 'Oakland Gardens'\n",
      " 'Lindenwood-Howard Beach' 'Woodlawn-Wakefield' 'Bellerose' 'Hunts Point'\n",
      " 'Douglas Manor-Douglaston-Little Neck'\n",
      " 'Schuylerville-Throgs Neck-Edgewater Park' 'Norwood'\n",
      " 'Bedford Park-Fordham North' 'Bronxdale'\n",
      " 'North Riverdale-Fieldston-Riverdale'\n",
      " 'Pelham Bay-Country Club-City Island' 'West Concourse' 'Highbridge'\n",
      " 'Soundview-Bruckner' 'Fordham South' 'Kingsbridge Heights'\n",
      " 'University Heights-Morris Heights' 'Belmont' 'East Tremont'\n",
      " 'Claremont-Bathgate' 'Van Cortlandt Village' 'Allerton-Pelham Gardens'\n",
      " 'Williamsbridge-Olinville' 'Co-op City'\n",
      " 'Van Nest-Morris Park-Westchester Square' 'West Farms-Bronx River'\n",
      " 'Westchester-Unionport' 'Mount Hope'\n",
      " 'Soundview-Castle Hill-Clason Point-Harding Park'\n",
      " 'Eastchester-Edenwald-Baychester' 'Melrose South-Mott Haven North'\n",
      " 'Mott Haven-Port Morris' 'Crotona Park East' 'Longwood'\n",
      " 'park-cemetery-etc-Bronx' 'Parkchester' 'Morrisania-Melrose'\n",
      " 'East Concourse-Concourse Village' 'St. Albans' 'Forest Hills' 'Elmhurst'\n",
      " 'Sheepshead Bay-Gerritsen Beach-Manhattan Beach' 'Gravesend'\n",
      " 'Rugby-Remsen Village' 'Canarsie' 'Midwood' 'Crown Heights South'\n",
      " 'Prospect Lefferts Gardens-Wingate' 'Crown Heights North' 'Laurelton'\n",
      " 'Queensboro Hill' 'Kew Gardens'\n",
      " 'Breezy Point-Belle Harbor-Rockaway Park-Broad Channel'\n",
      " 'Ft. Totten-Bay Terrace-Clearview' 'Bayside-Bayside Hills'\n",
      " 'Springfield Gardens North' 'Auburndale' 'Kew Gardens Hills'\n",
      " 'South Ozone Park' 'Steinway' 'Woodside' 'East Flushing' 'Ridgewood'\n",
      " 'Hunters Point-Sunnyside-West Maspeth' 'Murray Hill' 'College Point'\n",
      " 'Pomonok-Flushing Heights-Hillcrest' 'Glendale' 'Middle Village'\n",
      " 'Rego Park' 'Astoria' 'Whitestone' 'Woodhaven' 'park-cemetery-etc-Queens'\n",
      " 'Elmhurst-Maspeth' 'South Jamaica' 'Jamaica' 'Jackson Heights'\n",
      " 'Far Rockaway-Bayswater' 'North Corona' 'Richmond Hill'\n",
      " 'Hammels-Arverne-Edgemere' 'Cypress Hills-City Line' 'East New York'\n",
      " 'Homecrest' 'Flatlands' 'park-cemetery-etc-Brooklyn' 'Sunset Park East'\n",
      " 'Seagate-Coney Island' 'Dyker Heights' 'Bedford' 'Stuyvesant Heights'\n",
      " 'Park Slope-Gowanus' 'Bath Beach' 'Bensonhurst West'\n",
      " 'Carroll Gardens-Columbia Street-Red Hook' 'Madison' 'Bensonhurst East'\n",
      " 'Prospect Heights' 'Erasmus' 'Flatbush'\n",
      " 'DUMBO-Vinegar Hill-Downtown Brooklyn-Boerum Hill'\n",
      " 'Brooklyn Heights-Cobble Hill' 'Fort Greene' 'Clinton Hill'\n",
      " 'East Williamsburg' 'Kensington-Ocean Parkway' 'Brownsville'\n",
      " 'Bushwick South' 'Greenpoint' 'North Side-South Side' 'Bay Ridge'\n",
      " 'Sunset Park West' 'Ocean Hill' 'Brighton Beach' 'West Brighton'\n",
      " 'East Flatbush-Farragut' 'Ocean Parkway South'\n",
      " 'East New York (Pennsylvania Ave)' 'Williamsburg' 'Windsor Terrace'\n",
      " 'Starrett City' 'Bushwick North' 'Old Astoria' 'East Elmhurst'\n",
      " 'Fresh Meadows-Utopia' 'Corona' 'Ozone Park' 'Jamaica Estates-Holliswood'\n",
      " 'Flushing' 'Maspeth' 'Queensbridge-Ravenswood-Long Island City'\n",
      " 'Glen Oaks-Floral Park-New Hyde Park' 'Queens Village' 'Rosedale'\n",
      " 'Hollis' 'Cambria Heights' 'Baisley Park' 'Briarwood-Jamaica Hills'\n",
      " 'Springfield Gardens South-Brookville' 'Airport' 'Oakwood-Oakwood Beach'\n",
      " 'New Dorp-Midland Beach' 'Old Town-Dongan Hills-South Beach'\n",
      " 'Arden Heights' 'West New Brighton-New Brighton-St. George'\n",
      " 'Grymes Hill-Clifton-Fox Hills' 'New Brighton-Silver Lake'\n",
      " 'Charleston-Richmond Valley-Tottenville'\n",
      " \"Annadale-Huguenot-Prince's Bay-Eltingville\"\n",
      " 'New Springville-Bloomfield-Travis' 'Rossville-Woodrow'\n",
      " 'Todt Hill-Emerson Hill-Heartland Village-Lighthouse Hill' 'Great Kills'\n",
      " 'Grasmere-Arrochar-Ft. Wadsworth' 'Westerleigh' 'Port Richmond'\n",
      " \"Mariner's Harbor-Arlington-Port Ivory-Graniteville\" 'Stapleton-Rosebank']\n",
      "\n",
      "\n",
      "Unique Values for Column : boro_ct   =  2122\n",
      "******************************************************************\n",
      "[3021600. 3070600. 3069800. ... 5027702. 5003600. 5015602.]\n",
      "\n",
      "\n",
      "Unique Values for Column : state   =  1\n",
      "******************************************************************\n",
      "['New York']\n",
      "\n",
      "\n",
      "Unique Values for Column : latitude   =  266315\n",
      "******************************************************************\n",
      "[40.63265321 40.62008375 40.61799567 ... 40.58587729 40.58626041\n",
      " 40.58608995]\n",
      "\n",
      "\n",
      "Unique Values for Column : longitude   =  266841\n",
      "******************************************************************\n",
      "[-74.00024499 -73.9014528  -73.89911096 ... -74.14789994 -74.14879727\n",
      " -74.14901291]\n",
      "\n",
      "\n",
      "Unique Values for Column : x_sp   =  105340\n",
      "******************************************************************\n",
      "[ 984182 1011608 1012259 ...  943211  943162  942921]\n",
      "\n",
      "\n",
      "Unique Values for Column : y_sp   =  108404\n",
      "******************************************************************\n",
      "[169769 165205 164445 ... 152692 152722 152902]\n",
      "\n",
      "\n",
      "Unique Values for Column : objectid_1   =  592372\n",
      "******************************************************************\n",
      "[     0      1      2 ... 592369 592370 592371]\n",
      "\n",
      "\n",
      "Unique Values for Column : census tract   =  1322\n",
      "******************************************************************\n",
      "[2.1600e+02 7.0600e+02 6.9800e+02 ... 1.7000e+01 3.0000e+00 1.3301e+04]\n"
     ]
    },
    {
     "name": "stdout",
     "output_type": "stream",
     "text": [
      "\n",
      "\n",
      "Unique Values for Column : bin   =  300283\n",
      "******************************************************************\n",
      "[3140038. 3238037. 3238299. ... 5037728. 5037776. 5037778.]\n",
      "\n",
      "\n",
      "Unique Values for Column : bbl   =  291410\n",
      "******************************************************************\n",
      "[3.05689006e+09 3.08444005e+09 3.08453007e+09 ... 5.02370036e+09\n",
      " 5.02371021e+09 5.02371021e+09]\n",
      "\n",
      "\n",
      "Unique Values for Column : Location 1   =  268078\n",
      "******************************************************************\n",
      "['(40.63265321, -74.00024499)' '(40.62008375, -73.9014528)'\n",
      " '(40.61799567, -73.89911096)' ... '(40.58587729, -74.14789994)'\n",
      " '(40.58626041, -74.14879727)' '(40.58608995, -74.14901291)']\n"
     ]
    }
   ],
   "source": [
    "keyValues = []\n",
    "for key in cols:\n",
    "    count = len(tree_data[key].unique())\n",
    "    print('\\n')\n",
    "    print(f\"Unique Values for Column :\", key, \"  = \", count)\n",
    "    print(\"******************************************************************\")\n",
    "    keyValues = []\n",
    "    if (count >0):\n",
    "        keyValues = tree_data[key].unique()\n",
    "        print(keyValues)"
   ]
  },
  {
   "cell_type": "code",
   "execution_count": null,
   "metadata": {},
   "outputs": [],
   "source": []
  },
  {
   "cell_type": "code",
   "execution_count": null,
   "metadata": {},
   "outputs": [],
   "source": []
  },
  {
   "cell_type": "code",
   "execution_count": null,
   "metadata": {},
   "outputs": [],
   "source": []
  },
  {
   "cell_type": "markdown",
   "metadata": {},
   "source": [
    "### zipcode"
   ]
  },
  {
   "cell_type": "code",
   "execution_count": 5,
   "metadata": {},
   "outputs": [
    {
     "name": "stdout",
     "output_type": "stream",
     "text": [
      "Total Number of Unique ZipCodes : 188\n"
     ]
    }
   ],
   "source": [
    "treeZipcodes = []\n",
    "tree_zipcode = tree_data[\"zipcode\"].unique()\n",
    "for zip in tree_zipcode:\n",
    "    treeZipcodes.append(zip)\n",
    "    \n",
    "uniqueZipcodes = len(treeZipcodes)\n",
    "print(\"Total Number of Unique ZipCodes :\", uniqueZipcodes)"
   ]
  },
  {
   "cell_type": "code",
   "execution_count": 6,
   "metadata": {},
   "outputs": [
    {
     "data": {
      "text/plain": [
       "[0,\n",
       " 10001,\n",
       " 10002,\n",
       " 10003,\n",
       " 10004,\n",
       " 10005,\n",
       " 10006,\n",
       " 10007,\n",
       " 10009,\n",
       " 10010,\n",
       " 10011,\n",
       " 10012,\n",
       " 10013,\n",
       " 10014,\n",
       " 10016,\n",
       " 10017,\n",
       " 10018,\n",
       " 10019,\n",
       " 10020,\n",
       " 10021,\n",
       " 10022,\n",
       " 10023,\n",
       " 10024,\n",
       " 10025,\n",
       " 10026,\n",
       " 10027,\n",
       " 10028,\n",
       " 10029,\n",
       " 10030,\n",
       " 10031,\n",
       " 10032,\n",
       " 10033,\n",
       " 10034,\n",
       " 10035,\n",
       " 10036,\n",
       " 10037,\n",
       " 10038,\n",
       " 10039,\n",
       " 10040,\n",
       " 10044,\n",
       " 10065,\n",
       " 10075,\n",
       " 10128,\n",
       " 10280,\n",
       " 10301,\n",
       " 10302,\n",
       " 10303,\n",
       " 10304,\n",
       " 10305,\n",
       " 10306,\n",
       " 10307,\n",
       " 10308,\n",
       " 10309,\n",
       " 10310,\n",
       " 10312,\n",
       " 10314,\n",
       " 10451,\n",
       " 10452,\n",
       " 10453,\n",
       " 10454,\n",
       " 10455,\n",
       " 10456,\n",
       " 10457,\n",
       " 10458,\n",
       " 10459,\n",
       " 10460,\n",
       " 10461,\n",
       " 10462,\n",
       " 10463,\n",
       " 10464,\n",
       " 10465,\n",
       " 10466,\n",
       " 10467,\n",
       " 10468,\n",
       " 10469,\n",
       " 10470,\n",
       " 10471,\n",
       " 10472,\n",
       " 10473,\n",
       " 10474,\n",
       " 10475,\n",
       " 10550,\n",
       " 10704,\n",
       " 10803,\n",
       " 11001,\n",
       " 11004,\n",
       " 11005,\n",
       " 11040,\n",
       " 11096,\n",
       " 11101,\n",
       " 11102,\n",
       " 11103,\n",
       " 11104,\n",
       " 11105,\n",
       " 11106,\n",
       " 11201,\n",
       " 11203,\n",
       " 11204,\n",
       " 11205,\n",
       " 11206,\n",
       " 11207,\n",
       " 11208,\n",
       " 11209,\n",
       " 11210,\n",
       " 11211,\n",
       " 11212,\n",
       " 11213,\n",
       " 11214,\n",
       " 11215,\n",
       " 11216,\n",
       " 11217,\n",
       " 11218,\n",
       " 11219,\n",
       " 11220,\n",
       " 11221,\n",
       " 11222,\n",
       " 11223,\n",
       " 11224,\n",
       " 11225,\n",
       " 11226,\n",
       " 11228,\n",
       " 11229,\n",
       " 11230,\n",
       " 11231,\n",
       " 11232,\n",
       " 11233,\n",
       " 11234,\n",
       " 11235,\n",
       " 11236,\n",
       " 11237,\n",
       " 11238,\n",
       " 11239,\n",
       " 11251,\n",
       " 11354,\n",
       " 11355,\n",
       " 11356,\n",
       " 11357,\n",
       " 11358,\n",
       " 11359,\n",
       " 11360,\n",
       " 11361,\n",
       " 11362,\n",
       " 11363,\n",
       " 11364,\n",
       " 11365,\n",
       " 11366,\n",
       " 11367,\n",
       " 11368,\n",
       " 11369,\n",
       " 11370,\n",
       " 11372,\n",
       " 11373,\n",
       " 11374,\n",
       " 11375,\n",
       " 11377,\n",
       " 11378,\n",
       " 11379,\n",
       " 11385,\n",
       " 11411,\n",
       " 11412,\n",
       " 11413,\n",
       " 11414,\n",
       " 11415,\n",
       " 11416,\n",
       " 11417,\n",
       " 11418,\n",
       " 11419,\n",
       " 11420,\n",
       " 11421,\n",
       " 11422,\n",
       " 11423,\n",
       " 11426,\n",
       " 11427,\n",
       " 11428,\n",
       " 11429,\n",
       " 11430,\n",
       " 11432,\n",
       " 11433,\n",
       " 11434,\n",
       " 11435,\n",
       " 11436,\n",
       " 11559,\n",
       " 11580,\n",
       " 11691,\n",
       " 11692,\n",
       " 11693,\n",
       " 11694,\n",
       " 11697]"
      ]
     },
     "execution_count": 6,
     "metadata": {},
     "output_type": "execute_result"
    }
   ],
   "source": [
    "treeZipcodes.sort()\n",
    "treeZipcodes"
   ]
  },
  {
   "cell_type": "code",
   "execution_count": 11,
   "metadata": {},
   "outputs": [
    {
     "data": {
      "text/plain": [
       "zipcode\n",
       "0        8911\n",
       "10001     777\n",
       "10002    1070\n",
       "10003    1853\n",
       "10004      74\n",
       "         ... \n",
       "11691    3610\n",
       "11692     754\n",
       "11693     726\n",
       "11694    3510\n",
       "11697      48\n",
       "Name: OBJECTID, Length: 188, dtype: int64"
      ]
     },
     "execution_count": 11,
     "metadata": {},
     "output_type": "execute_result"
    }
   ],
   "source": [
    "countbyZipcode = tree_data.groupby([\"zipcode\"]).count()[[\"OBJECTID\"]]\n",
    "countbyZipcode[\"OBJECTID\"]"
   ]
  },
  {
   "cell_type": "code",
   "execution_count": 32,
   "metadata": {},
   "outputs": [
    {
     "data": {
      "image/png": "[encoded data removed]",
      "text/plain": [
       "<Figure size 720x3600 with 1 Axes>"
      ]
     },
     "metadata": {
      "needs_background": "light"
     },
     "output_type": "display_data"
    }
   ],
   "source": [
    "aZ = countbyZipcode.plot.barh(y='OBJECTID', rot=0, figsize=(10,50))"
   ]
  },
  {
   "cell_type": "code",
   "execution_count": 30,
   "metadata": {},
   "outputs": [
    {
     "data": {
      "text/plain": [
       "(188, 1)"
      ]
     },
     "execution_count": 30,
     "metadata": {},
     "output_type": "execute_result"
    }
   ],
   "source": [
    "countbyZipcode.shape"
   ]
  },
  {
   "cell_type": "markdown",
   "metadata": {},
   "source": [
    "### boroname"
   ]
  },
  {
   "cell_type": "code",
   "execution_count": 38,
   "metadata": {},
   "outputs": [
    {
     "name": "stdout",
     "output_type": "stream",
     "text": [
      "Total Number of Unique boronames : 5\n"
     ]
    },
    {
     "data": {
      "image/png": "[encoded data removed]",
      "text/plain": [
       "<Figure size 720x720 with 1 Axes>"
      ]
     },
     "metadata": {
      "needs_background": "light"
     },
     "output_type": "display_data"
    }
   ],
   "source": [
    "treeBoroname = []\n",
    "tree_boroname = tree_data[\"boroname\"].unique()\n",
    "for bn in tree_boroname:\n",
    "    treeBoroname.append(bn)\n",
    "    \n",
    "uniqueBoronames = len(treeBoroname)\n",
    "print(\"Total Number of Unique boronames :\", uniqueBoronames)\n",
    "\n",
    "countbyBoroname = tree_data.groupby([\"boroname\"]).count()[[\"OBJECTID\"]]\n",
    "countbyBoroname[\"OBJECTID\"]\n",
    "\n",
    "aB = countbyBoroname.plot.barh(y='OBJECTID', rot=0, figsize=(10,10))"
   ]
  },
  {
   "cell_type": "markdown",
   "metadata": {},
   "source": [
    "### borocode"
   ]
  },
  {
   "cell_type": "code",
   "execution_count": 37,
   "metadata": {},
   "outputs": [
    {
     "name": "stdout",
     "output_type": "stream",
     "text": [
      "Total Number of Unique borocodes : 5\n"
     ]
    },
    {
     "data": {
      "image/png": "[encoded data removed]",
      "text/plain": [
       "<Figure size 720x720 with 1 Axes>"
      ]
     },
     "metadata": {
      "needs_background": "light"
     },
     "output_type": "display_data"
    }
   ],
   "source": [
    "treeBorocode = []\n",
    "tree_borocode = tree_data[\"borocode\"].unique()\n",
    "for bc in tree_boroname:\n",
    "    treeBorocode.append(bc)\n",
    "    \n",
    "uniqueBorocodes = len(treeBorocode)\n",
    "print(\"Total Number of Unique borocodes :\", uniqueBorocodes)\n",
    "\n",
    "countbyBorocode = tree_data.groupby([\"borocode\"]).count()[[\"OBJECTID\"]]\n",
    "countbyBorocode[\"OBJECTID\"]\n",
    "\n",
    "aC = countbyBorocode.plot.barh(y='OBJECTID', rot=0, figsize=(10,10))"
   ]
  },
  {
   "cell_type": "markdown",
   "metadata": {},
   "source": [
    "### zip_city"
   ]
  },
  {
   "cell_type": "code",
   "execution_count": 40,
   "metadata": {},
   "outputs": [
    {
     "name": "stdout",
     "output_type": "stream",
     "text": [
      "Total Number of Unique Zip Cities : 53\n"
     ]
    },
    {
     "data": {
      "image/png": "[encoded data removed]",
      "text/plain": [
       "<Figure size 720x1440 with 1 Axes>"
      ]
     },
     "metadata": {
      "needs_background": "light"
     },
     "output_type": "display_data"
    }
   ],
   "source": [
    "treeZipcity = []\n",
    "tree_zipcity = tree_data[\"zip_city\"].unique()\n",
    "for zc in tree_zipcity:\n",
    "    treeZipcity.append(zc)\n",
    "    \n",
    "uniqueZipcities = len(treeZipcity)\n",
    "print(\"Total Number of Unique Zip Cities :\", uniqueZipcities)\n",
    "\n",
    "countbyZipcity = tree_data.groupby([\"zip_city\"]).count()[[\"OBJECTID\"]]\n",
    "countbyZipcity[\"OBJECTID\"]\n",
    "\n",
    "aZC = countbyZipcity.plot.barh(y='OBJECTID', rot=0, figsize=(10,20))"
   ]
  },
  {
   "cell_type": "code",
   "execution_count": null,
   "metadata": {},
   "outputs": [],
   "source": []
  },
  {
   "cell_type": "code",
   "execution_count": null,
   "metadata": {},
   "outputs": [],
   "source": []
  },
  {
   "cell_type": "code",
   "execution_count": null,
   "metadata": {},
   "outputs": [],
   "source": []
  },
  {
   "cell_type": "code",
   "execution_count": null,
   "metadata": {},
   "outputs": [],
   "source": []
  },
  {
   "cell_type": "code",
   "execution_count": null,
   "metadata": {},
   "outputs": [],
   "source": []
  },
  {
   "cell_type": "code",
   "execution_count": null,
   "metadata": {},
   "outputs": [],
   "source": []
  },
  {
   "cell_type": "code",
   "execution_count": null,
   "metadata": {},
   "outputs": [],
   "source": []
  },
  {
   "cell_type": "code",
   "execution_count": null,
   "metadata": {},
   "outputs": [],
   "source": []
  },
  {
   "cell_type": "code",
   "execution_count": 51,
   "metadata": {},
   "outputs": [
    {
     "data": {
      "text/plain": [
       "<matplotlib.axes._subplots.AxesSubplot at 0x7fdaa8a22090>"
      ]
     },
     "execution_count": 51,
     "metadata": {},
     "output_type": "execute_result"
    },
    {
     "data": {
      "image/png": "[encoded data removed]",
      "text/plain": [
       "<Figure size 432x288 with 2 Axes>"
      ]
     },
     "metadata": {
      "needs_background": "light"
     },
     "output_type": "display_data"
    }
   ],
   "source": [
    "import numpy as np\n",
    "import pandas as pd\n",
    "import matplotlib.pyplot as plt\n",
    "import seaborn as sns\n",
    "\n",
    "df = pd.DataFrame(np.random.uniform(-1, 1, (5,uniqueBoronames)))\n",
    "df.columns = treeBoroname\n",
    "sns.heatmap(df, cmap = \"Greens\", cbar = True)"
   ]
  },
  {
   "cell_type": "code",
   "execution_count": null,
   "metadata": {},
   "outputs": [],
   "source": []
  },
  {
   "cell_type": "code",
   "execution_count": 41,
   "metadata": {},
   "outputs": [
    {
     "data": {
      "image/png": "[encoded data removed]",
      "text/plain": [
       "<Figure size 432x288 with 1 Axes>"
      ]
     },
     "metadata": {
      "needs_background": "light"
     },
     "output_type": "display_data"
    }
   ],
   "source": [
    "import numpy as np\n",
    "import matplotlib.pyplot as plt\n",
    "\n",
    "\n",
    "# Fixing random state for reproducibility\n",
    "np.random.seed(19680801)\n",
    "\n",
    "# Compute pie slices\n",
    "N = uniqueZipcities\n",
    "theta = np.linspace(0.0, 2 * np.pi, N, endpoint=False)\n",
    "radii = 10 * np.random.rand(N)\n",
    "width = np.pi / 4 * np.random.rand(N)\n",
    "colors = plt.cm.viridis(radii / 10.)\n",
    "\n",
    "ax = plt.subplot(111, projection='polar')\n",
    "ax.bar(theta, radii, width=width, bottom=0.0, color=colors, alpha=0.5)\n",
    "\n",
    "plt.show()"
   ]
  },
  {
   "cell_type": "code",
   "execution_count": 74,
   "metadata": {},
   "outputs": [
    {
     "data": {
      "image/png": "[encoded data removed]",
      "text/plain": [
       "<Figure size 432x288 with 1 Axes>"
      ]
     },
     "metadata": {
      "needs_background": "light"
     },
     "output_type": "display_data"
    }
   ],
   "source": [
    "import numpy as np\n",
    "import matplotlib.pyplot as plt\n",
    "\n",
    "\n",
    "# Fixing random state for reproducibility\n",
    "np.random.seed(19680801)\n",
    "\n",
    "# Compute pie slices\n",
    "N = 20\n",
    "theta = np.linspace(0.0, 2 * np.pi, N, endpoint=False)\n",
    "radii = 10 * np.random.rand(N)\n",
    "width = np.pi / 4 * np.random.rand(N)\n",
    "colors = plt.cm.viridis(radii / 10.)\n",
    "\n",
    "ax = plt.subplot(111, projection='polar')\n",
    "ax.bar(theta, radii, width=width, bottom=0.0, color=colors, alpha=0.5)\n",
    "\n",
    "plt.show()"
   ]
  },
  {
   "cell_type": "code",
   "execution_count": 82,
   "metadata": {},
   "outputs": [
    {
     "data": {
      "text/plain": [
       "2"
      ]
     },
     "execution_count": 82,
     "metadata": {},
     "output_type": "execute_result"
    }
   ],
   "source": [
    "len(tree_data[\"inf_shoes\"].unique())"
   ]
  },
  {
   "cell_type": "code",
   "execution_count": 83,
   "metadata": {},
   "outputs": [
    {
     "data": {
      "text/plain": [
       "array(['No', 'Yes'], dtype=object)"
      ]
     },
     "execution_count": 83,
     "metadata": {},
     "output_type": "execute_result"
    }
   ],
   "source": [
    "tree_data[\"horz_blck\"].unique()"
   ]
  },
  {
   "cell_type": "code",
   "execution_count": 84,
   "metadata": {},
   "outputs": [
    {
     "data": {
      "text/plain": [
       "array([     0,      1,      2, ..., 592369, 592370, 592371])"
      ]
     },
     "execution_count": 84,
     "metadata": {},
     "output_type": "execute_result"
    }
   ],
   "source": [
    "tree_data[\"objectid_1\"].unique()"
   ]
  },
  {
   "cell_type": "code",
   "execution_count": 85,
   "metadata": {},
   "outputs": [
    {
     "data": {
      "text/plain": [
       "array(['(40.63265321, -74.00024499)', '(40.62008375, -73.9014528)',\n",
       "       '(40.61799567, -73.89911096)', ..., '(40.58587729, -74.14789994)',\n",
       "       '(40.58626041, -74.14879727)', '(40.58608995, -74.14901291)'],\n",
       "      dtype=object)"
      ]
     },
     "execution_count": 85,
     "metadata": {},
     "output_type": "execute_result"
    }
   ],
   "source": [
    "treeLocation =tree_data[\"Location 1\"].unique()\n",
    "treeLocation"
   ]
  },
  {
   "cell_type": "code",
   "execution_count": 86,
   "metadata": {},
   "outputs": [
    {
     "data": {
      "text/plain": [
       "array(['None', 'Cavity', 'Trunk Wound', 'Torn Bark', ' '], dtype=object)"
      ]
     },
     "execution_count": 86,
     "metadata": {},
     "output_type": "execute_result"
    }
   ],
   "source": [
    "tree_data[\"trunk_dmg\"].unique()"
   ]
  },
  {
   "cell_type": "code",
   "execution_count": 87,
   "metadata": {},
   "outputs": [
    {
     "data": {
      "text/plain": [
       "array(['Brooklyn', 'Manhattan', 'Bronx', 'Queens', '5'], dtype=object)"
      ]
     },
     "execution_count": 87,
     "metadata": {},
     "output_type": "execute_result"
    }
   ],
   "source": [
    "tree_data[\"boroname\"].unique()"
   ]
  },
  {
   "cell_type": "code",
   "execution_count": 88,
   "metadata": {},
   "outputs": [
    {
     "data": {
      "text/plain": [
       "array([40.63265321, 40.62008375, 40.61799567, ..., 40.58587729,\n",
       "       40.58626041, 40.58608995])"
      ]
     },
     "execution_count": 88,
     "metadata": {},
     "output_type": "execute_result"
    }
   ],
   "source": [
    "tree_data[\"latitude\"].unique()"
   ]
  },
  {
   "cell_type": "code",
   "execution_count": 89,
   "metadata": {},
   "outputs": [
    {
     "data": {
      "text/plain": [
       "array([-74.00024499, -73.9014528 , -73.89911096, ..., -74.14789994,\n",
       "       -74.14879727, -74.14901291])"
      ]
     },
     "execution_count": 89,
     "metadata": {},
     "output_type": "execute_result"
    }
   ],
   "source": [
    "tree_data[\"longitude\"].unique()"
   ]
  },
  {
   "cell_type": "code",
   "execution_count": 90,
   "metadata": {},
   "outputs": [
    {
     "data": {
      "text/plain": [
       "array([2005, 2006,    0])"
      ]
     },
     "execution_count": 90,
     "metadata": {},
     "output_type": "execute_result"
    }
   ],
   "source": [
    "tree_data[\"cen_year\"].unique()"
   ]
  },
  {
   "cell_type": "code",
   "execution_count": 91,
   "metadata": {},
   "outputs": [
    {
     "data": {
      "text/plain": [
       "array(['No', 'Yes'], dtype=object)"
      ]
     },
     "execution_count": 91,
     "metadata": {},
     "output_type": "execute_result"
    }
   ],
   "source": [
    "tree_data[\"vert_pgrd\"].unique()"
   ]
  },
  {
   "cell_type": "code",
   "execution_count": 92,
   "metadata": {},
   "outputs": [],
   "source": [
    "tree_locators = [\"OBJECTID\", \"latitude\", \"longitude\", \"tree_loc\", \"state\", \"boro_ct\", \"borocode\", \"boroname\", \"address\"]"
   ]
  },
  {
   "cell_type": "code",
   "execution_count": null,
   "metadata": {},
   "outputs": [],
   "source": []
  },
  {
   "cell_type": "markdown",
   "metadata": {},
   "source": [
    "Index(['OBJECTID', 'cen_year', 'tree_dbh', 'address', 'tree_loc', 'pit_type',\n",
    "       'soil_lvl', 'status', 'spc_latin', 'spc_common', 'vert_other',\n",
    "       'vert_pgrd', 'vert_tgrd', 'vert_wall', 'horz_blck', 'horz_grate',\n",
    "       'horz_plant', 'horz_other', 'sidw_crack', 'sidw_raise', 'wire_htap',\n",
    "       'wire_prime', 'wire_2nd', 'wire_other', 'inf_canopy', 'inf_guard',\n",
    "       'inf_wires', 'inf_paving', 'inf_outlet', 'inf_shoes', 'inf_lights',\n",
    "       'inf_other', 'trunk_dmg', 'zipcode', 'zip_city', 'cb_num', 'borocode',\n",
    "       'boroname', 'cncldist', 'st_assem', 'st_senate', 'nta', 'nta_name',\n",
    "       'boro_ct', 'state', 'latitude', 'longitude', 'x_sp', 'y_sp',\n",
    "       'objectid_1', 'census tract', 'bin', 'bbl', 'Location 1'],\n",
    "      dtype='object')"
   ]
  },
  {
   "cell_type": "code",
   "execution_count": 93,
   "metadata": {},
   "outputs": [
    {
     "data": {
      "text/plain": [
       "(592372, 54)"
      ]
     },
     "execution_count": 93,
     "metadata": {},
     "output_type": "execute_result"
    }
   ],
   "source": [
    "#(592372, 54) Tree.csv\n",
    "tree_data.shape"
   ]
  },
  {
   "cell_type": "code",
   "execution_count": 94,
   "metadata": {},
   "outputs": [],
   "source": [
    "latin_names = tree_data[\"spc_latin\"].unique()"
   ]
  },
  {
   "cell_type": "code",
   "execution_count": 95,
   "metadata": {},
   "outputs": [
    {
     "data": {
      "text/plain": [
       "array(['PYRUS CALLERYANA', 'PLATANUS ACERIFOLIA',\n",
       "       'ACER PLATANOIDES          CRIMSON KING', 'CRATAEGUS SPECIES',\n",
       "       'ACER PLATANOIDES', 'GLEDITSIA TRIACANTHOS', 'TILIA CORDATA',\n",
       "       'UNKNOWN', 'GINKGO BILOBA', 'KOELREUTERIA PANICULATA',\n",
       "       'CORNUS FLORIDA', 'ACER PSEUDOPLATANUS', 'ACER RUBRUM',\n",
       "       'PRUNUS CERASIFERA', 'ZELKOVA SERRATA', 'QUERCUS PALUSTRIS',\n",
       "       'FRAXINUS PENNSYLVANICA', 'SYRINGA RETICULATA', 'PRUNUS SPECIES',\n",
       "       'ACER GINNALA', 'STYPHNOLOBIUM JAPONICUM',\n",
       "       'CERCIDIPHYLLUM JAPONICUM', 'QUERCUS RUBRA', 'Unknown Dead',\n",
       "       'ULMUS AMERICANA', 'ULMUS PARVIFOLIA', 'TILIA TOMENTOSA',\n",
       "       'QUERCUS ALBA', 'TILIA AMERICANA', 'QUERCUS BICOLOR',\n",
       "       'AILANTHUS ALTISSIMA', 'METASEQUOIA GLYPTOSTROBOIDES',\n",
       "       'QUERCUS ACUTISSIMA', 'ROBINIA PSEUDOACACIA', 'QUERCUS PHELLOS',\n",
       "       'CARPINUS CAROLINIANA', 'CERCIS CANADENSIS', 'GYMNOCLADUS DIOICUS',\n",
       "       'PRUNUS VIRGINIANA           SHUBERT', 'ACER SACCHARINUM',\n",
       "       'CELTIS OCCIDENTALIS', 'TAXODIUM DISTICHUM', 'CARPINUS BETULUS',\n",
       "       'POPLAR SPECIES', 'ACER CAMPESTRE', 'MORUS', 'ULMUS SPECIES',\n",
       "       'ACER PALMATUM', 'MAGNOLIA SPECIES', 'MALUS SPECIES',\n",
       "       'QUERCUS SPECIES', 'ULMUS PUMILA', 'LIQUIDAMBAR STYRACIFLUA',\n",
       "       'QUERCUS LAURIFOLIA', 'ILEX SPECIES', 'QUERCUS ROBUR',\n",
       "       'LIRIODENDRON TULIPIFERA', 'PRUNUS SERRULATA            KWANZAN',\n",
       "       'TILIA SPECIES', 'BETULA SPECIES', 'ACER SPECIES',\n",
       "       'AESCULUS HIPPOCASTANUM', 'PINUS THUNBERGII', 'ACER SACCHARUM',\n",
       "       'PINUS STROBUS', 'PINUS SPECIES', 'CORNUS KOUSA', 'PICEA SPECIES',\n",
       "       'ACER NEGUNDO', 'AMELANCHIER SPECIES', 'TSUGA CANADENSIS',\n",
       "       'QUERCUS LAEVIS', 'MALUS PUMILA', 'QUERCUS MACROCARPA',\n",
       "       'DIOSPYROS VIRGINIANA', 'CARYA', 'CLADRASTIS LUTEA',\n",
       "       'SALIX SPECIES', 'QUERCUS COCCINEA', 'FRAXINUS SPECIES',\n",
       "       'HALESIA DIPTERA', 'FAGUS GRANDIFOLIA', 'FRAXINUS AMERICANA',\n",
       "       'PSEUDOTSUGA MENZIESII', 'STYRAX JAPONICA', 'PICEA PUNGENS',\n",
       "       'ULMUS PROCERA', 'PINUS RESINOSA', 'CEDRUS ATLANTICA',\n",
       "       'JUNIPERUS VIRGINIANA', 'THUJA OCCIDENTALIS', 'CATALPA',\n",
       "       'PICEA ABIES', 'CASTANEA MOLLISSIMA', 'EUCOMMIA ULMOIDES',\n",
       "       'PRUNUS PERSICA', 'PYRUS COMMUNIS', 'PRUNUS SEROTINA',\n",
       "       'NYSSA SYLVATICA', 'ALNUS GLUTINOSA', 'POPULUS NIGRA',\n",
       "       'POPULUS DELTOIDES', 'QUERCUS FALCATA', 'ULMUS RUBRA',\n",
       "       'PHELLODENDRON AMURENSE', 'ALBIZIA JULIBRISSIN', 'CORNUS',\n",
       "       'ACER BUERGERIANUM', 'QUERCUS IMBRICARIA', 'PINUS VIRGINIANA',\n",
       "       'JUGLANS NIGRA', 'JUNIPERUS RECURVA', 'PINUS ECHINATA',\n",
       "       'PINUS NIGRA', 'HAMAMELIS VIRGINIANA', 'FAGUS SYLVATICA',\n",
       "       'AESCULUS X CARNEA', 'PAULOWNIA TOMENTOSA', 'MAACKIA AMURENSIS',\n",
       "       'SALIX BABYLONICA', 'LARIX', 'SORBUS AMERICANA',\n",
       "       'MAGNOLIA GRANDIFLORA', 'MACLURA POMIFERA', 'SASSAFRAS ALBIDUM',\n",
       "       'BETULA PENDULA', 'CORNUS MAS', 'LABURNUM WATERERI',\n",
       "       'ACER GRISEUM', 'OSTRYA VIRGINIANA', 'BETULA PAPYRIFERA',\n",
       "       'LARIX LARICINA', 'CORNUS AMOMUM', 'ULMUS THOMASII',\n",
       "       'QUERCUS VELUTINA', 'AESCULUS GLABRA', 'OXYDENDRUM ARBOREUM',\n",
       "       'TAXODIUM ASCENDENS', 'BETULA NIGRA', 'PINUS SYLVESTRIS',\n",
       "       'QUERCUS STELLATA', 'JUNIPERUS', 'POPULUS TREMULOIDES',\n",
       "       'SALIX MATSUDANA', 'HALESIA CAROLINIANA', 'ACER TATARICUM',\n",
       "       'ACER NIGRUM', 'CORYLUS COLURNA', 'PINUS RIGIDA',\n",
       "       'CHAMAECYPARIS THYOIDES', 'BETULA ALLEGHANIENSIS',\n",
       "       'MAGNOLIA ACUMINATA', 'TAXODIUM', 'CARYA ILLINOINENSIS',\n",
       "       'ULMUS ALATA', 'CORNUS ALTERNIFLORA', 'CARYA GLABRA',\n",
       "       'POPULUS GRANDIDENTATA', 'SALIX', 'ELAEAGNUS ANGUSTIFOLIA',\n",
       "       'ABIES BALSAMEA', 'ABIES CONCOLOR', 'PINUS MUGO',\n",
       "       'COTINUS COGGYGRIA', 'CASTANEA DENTATA', 'SORBUS ALNIFOLIA',\n",
       "       'CHAMAECYPARIS PISIFERA', 'CEDRUS DEODARA', 'CARYA OVATA'],\n",
       "      dtype=object)"
      ]
     },
     "execution_count": 95,
     "metadata": {},
     "output_type": "execute_result"
    }
   ],
   "source": [
    "latin_names"
   ]
  },
  {
   "cell_type": "markdown",
   "metadata": {},
   "source": [
    "array(['PYRUS CALLERYANA', 'PLATANUS ACERIFOLIA',\n",
    "       'ACER PLATANOIDES          CRIMSON KING', 'CRATAEGUS SPECIES',\n",
    "       'ACER PLATANOIDES', 'GLEDITSIA TRIACANTHOS', 'TILIA CORDATA',\n",
    "       'UNKNOWN', 'GINKGO BILOBA', 'KOELREUTERIA PANICULATA',\n",
    "       'CORNUS FLORIDA', 'ACER PSEUDOPLATANUS', 'ACER RUBRUM',\n",
    "       'PRUNUS CERASIFERA', 'ZELKOVA SERRATA', 'QUERCUS PALUSTRIS',\n",
    "       'FRAXINUS PENNSYLVANICA', 'SYRINGA RETICULATA', 'PRUNUS SPECIES',\n",
    "       'ACER GINNALA', 'STYPHNOLOBIUM JAPONICUM',\n",
    "       'CERCIDIPHYLLUM JAPONICUM', 'QUERCUS RUBRA', 'Unknown Dead',\n",
    "       'ULMUS AMERICANA', 'ULMUS PARVIFOLIA', 'TILIA TOMENTOSA',\n",
    "       'QUERCUS ALBA', 'TILIA AMERICANA', 'QUERCUS BICOLOR',\n",
    "       'AILANTHUS ALTISSIMA', 'METASEQUOIA GLYPTOSTROBOIDES',\n",
    "       'QUERCUS ACUTISSIMA', 'ROBINIA PSEUDOACACIA', 'QUERCUS PHELLOS',\n",
    "       'CARPINUS CAROLINIANA', 'CERCIS CANADENSIS', 'GYMNOCLADUS DIOICUS',\n",
    "       'PRUNUS VIRGINIANA           SHUBERT', 'ACER SACCHARINUM',\n",
    "       'CELTIS OCCIDENTALIS', 'TAXODIUM DISTICHUM', 'CARPINUS BETULUS',\n",
    "       'POPLAR SPECIES', 'ACER CAMPESTRE', 'MORUS', 'ULMUS SPECIES',\n",
    "       'ACER PALMATUM', 'MAGNOLIA SPECIES', 'MALUS SPECIES',\n",
    "       'QUERCUS SPECIES', 'ULMUS PUMILA', 'LIQUIDAMBAR STYRACIFLUA',\n",
    "       'QUERCUS LAURIFOLIA', 'ILEX SPECIES', 'QUERCUS ROBUR',\n",
    "       'LIRIODENDRON TULIPIFERA', 'PRUNUS SERRULATA            KWANZAN',\n",
    "       'TILIA SPECIES', 'BETULA SPECIES', 'ACER SPECIES',\n",
    "       'AESCULUS HIPPOCASTANUM', 'PINUS THUNBERGII', 'ACER SACCHARUM',\n",
    "       'PINUS STROBUS', 'PINUS SPECIES', 'CORNUS KOUSA', 'PICEA SPECIES',\n",
    "       'ACER NEGUNDO', 'AMELANCHIER SPECIES', 'TSUGA CANADENSIS',\n",
    "       'QUERCUS LAEVIS', 'MALUS PUMILA', 'QUERCUS MACROCARPA',\n",
    "       'DIOSPYROS VIRGINIANA', 'CARYA', 'CLADRASTIS LUTEA',\n",
    "       'SALIX SPECIES', 'QUERCUS COCCINEA', 'FRAXINUS SPECIES',\n",
    "       'HALESIA DIPTERA', 'FAGUS GRANDIFOLIA', 'FRAXINUS AMERICANA',\n",
    "       'PSEUDOTSUGA MENZIESII', 'STYRAX JAPONICA', 'PICEA PUNGENS',\n",
    "       'ULMUS PROCERA', 'PINUS RESINOSA', 'CEDRUS ATLANTICA',\n",
    "       'JUNIPERUS VIRGINIANA', 'THUJA OCCIDENTALIS', 'CATALPA',\n",
    "       'PICEA ABIES', 'CASTANEA MOLLISSIMA', 'EUCOMMIA ULMOIDES',\n",
    "       'PRUNUS PERSICA', 'PYRUS COMMUNIS', 'PRUNUS SEROTINA',\n",
    "       'NYSSA SYLVATICA', 'ALNUS GLUTINOSA', 'POPULUS NIGRA',\n",
    "       'POPULUS DELTOIDES', 'QUERCUS FALCATA', 'ULMUS RUBRA',\n",
    "       'PHELLODENDRON AMURENSE', 'ALBIZIA JULIBRISSIN', 'CORNUS',\n",
    "       'ACER BUERGERIANUM', 'QUERCUS IMBRICARIA', 'PINUS VIRGINIANA',\n",
    "       'JUGLANS NIGRA', 'JUNIPERUS RECURVA', 'PINUS ECHINATA',\n",
    "       'PINUS NIGRA', 'HAMAMELIS VIRGINIANA', 'FAGUS SYLVATICA',\n",
    "       'AESCULUS X CARNEA', 'PAULOWNIA TOMENTOSA', 'MAACKIA AMURENSIS',\n",
    "       'SALIX BABYLONICA', 'LARIX', 'SORBUS AMERICANA',\n",
    "       'MAGNOLIA GRANDIFLORA', 'MACLURA POMIFERA', 'SASSAFRAS ALBIDUM',\n",
    "       'BETULA PENDULA', 'CORNUS MAS', 'LABURNUM WATERERI',\n",
    "       'ACER GRISEUM', 'OSTRYA VIRGINIANA', 'BETULA PAPYRIFERA',\n",
    "       'LARIX LARICINA', 'CORNUS AMOMUM', 'ULMUS THOMASII',\n",
    "       'QUERCUS VELUTINA', 'AESCULUS GLABRA', 'OXYDENDRUM ARBOREUM',\n",
    "       'TAXODIUM ASCENDENS', 'BETULA NIGRA', 'PINUS SYLVESTRIS',\n",
    "       'QUERCUS STELLATA', 'JUNIPERUS', 'POPULUS TREMULOIDES',\n",
    "       'SALIX MATSUDANA', 'HALESIA CAROLINIANA', 'ACER TATARICUM',\n",
    "       'ACER NIGRUM', 'CORYLUS COLURNA', 'PINUS RIGIDA',\n",
    "       'CHAMAECYPARIS THYOIDES', 'BETULA ALLEGHANIENSIS',\n",
    "       'MAGNOLIA ACUMINATA', 'TAXODIUM', 'CARYA ILLINOINENSIS',\n",
    "       'ULMUS ALATA', 'CORNUS ALTERNIFLORA', 'CARYA GLABRA',\n",
    "       'POPULUS GRANDIDENTATA', 'SALIX', 'ELAEAGNUS ANGUSTIFOLIA',\n",
    "       'ABIES BALSAMEA', 'ABIES CONCOLOR', 'PINUS MUGO',\n",
    "       'COTINUS COGGYGRIA', 'CASTANEA DENTATA', 'SORBUS ALNIFOLIA',\n",
    "       'CHAMAECYPARIS PISIFERA', 'CEDRUS DEODARA', 'CARYA OVATA'],\n",
    "      dtype=object)"
   ]
  },
  {
   "cell_type": "code",
   "execution_count": 96,
   "metadata": {},
   "outputs": [],
   "source": [
    "common_names = tree_data[\"spc_common\"].unique()"
   ]
  },
  {
   "cell_type": "markdown",
   "metadata": {},
   "source": [
    "array(['PEAR, CALLERY', 'LONDON PLANETREE', 'MAPLE, NORWAY-CR KNG',\n",
    "       'HAWTHORN, OTHER', 'MAPLE, NORWAY', 'HONEYLOCUST',\n",
    "       'LINDEN, LITTLE LEAF', 'UNKNOWN', 'GINKGO', 'GOLDENRAIN TREE',\n",
    "       'DOGWOOD, FLOWERING', 'MAPLE, SYCAMORE', 'MAPLE, RED',\n",
    "       'PLUM, PURPLELEAF', 'ZELKOVA, JAPANESE', 'OAK, PIN', 'ASH, GREEN',\n",
    "       'JAPANESE TREE LILAC', 'CHERRY, OTHER', 'MAPLE, AMUR',\n",
    "       'JAPANESE PAGODA TREE', 'KATSURA TREE', 'OAK, NORTHERN RED',\n",
    "       'Unknown Dead', 'ELM, AMERICAN', 'ELM, CHINESE', 'LINDEN, SILVER',\n",
    "       'OAK, WHITE', 'LINDEN, AMERICAN', 'OAK, SWAMP WHITE',\n",
    "       'TREE OF HEAVEN', 'DAWN REDWOOD', 'OAK, SAWTOOTH', 'BLACK LOCUST',\n",
    "       'OAK, WILLOW', 'HORNBEAM, AMERICAN', 'REDBUD, EASTERN',\n",
    "       'KENTUCKY COFFEETREE', 'CHOKECHERRY, SHUBERT', 'MAPLE, SILVER',\n",
    "       'HACKBERRY', 'BALDCYPRESS', 'HORNBEAM, EUROPEAN', 'POPLAR, OTHER',\n",
    "       'MAPLE, HEDGE', 'MULBERRY', 'ELM, OTHER', 'MAPLE, JAPANESE',\n",
    "       'MAGNOLIA, OTHER', 'CRABAPPLE', 'OAK, OTHER', 'ELM, SIBERIAN',\n",
    "       'SWEETGUM', 'OAK, LAUREL', 'HOLLY SPECIES', 'OAK, ENGLISH',\n",
    "       'TULIP TREE', 'CHERRY, KWANZAN', 'LINDEN, OTHER', 'BIRCH, OTHER',\n",
    "       'MAPLE, OTHER', 'HORSECHESTNUT', 'PINE, JAPANESE BLACK',\n",
    "       'MAPLE, SUGAR', 'PINE, EASTERN WHITE', 'PINE, OTHER',\n",
    "       'DOGWOOD, KOUSA', 'SPRUCE, OTHER', 'BOXELDER',\n",
    "       'SERVICEBERRY, OTHER', 'HEMLOCK, EASTERN', 'OAK, TURKEY', 'APPLE',\n",
    "       'OAK, BUR', 'PERSIMMON, COMMON', 'HICKORY', 'YELLOWOOD',\n",
    "       'WILLOW SPECIES', 'OAK, SCARLET', 'ASH, OTHER', 'SILVERBELL',\n",
    "       'BEECH, AMERICAN', 'ASH, WHITE', 'DOUGLAS FIR',\n",
    "       'SNOWBELL, JAPANESE', 'SPRUCE, COLORADO', 'ELM, ENGLISH',\n",
    "       'PINE, RED', 'CEDAR, ATLAS', 'EASTERN REDCEDAR',\n",
    "       'ARBORVITAE, EASTERN', 'CATALPA', 'SPRUCE, NORWAY',\n",
    "       'CHESTNUT, CHINESE', 'HARDY RUBBER TREE', 'PEACH TREE',\n",
    "       'COMMON PEAR', 'CHERRY, BLACK', 'BLACKGUM', 'ALDER, EUROPEAN',\n",
    "       'POPLAR, LOMBARDY', 'COTTONWOOD, EASTERN', 'OAK, SOUTHERN RED',\n",
    "       'ELM, SLIPPERY', 'AMUR CORKTREE', 'MIMOSA', 'DOGWOOD SPP.',\n",
    "       'MAPLE, TRIDENT', 'OAK, SHINGLE', 'PINE, VIRGINIA',\n",
    "       'WALNUT, BLACK', 'DROOPING JUNIPER', 'PINE, SHORTLEAF',\n",
    "       'PINE, AUSTRIAN', 'WITCH HAZEL', 'BEECH, EUROPEAN',\n",
    "       'HORSECHESTNUT, RED', 'ROYAL PAULOWNIA', 'MAACKIA,AMUR',\n",
    "       'WEEPING WILLOW', 'LARCH', 'MOUNTAINASH, AMERICAN',\n",
    "       'MAGNOLIA, SOUTHERN', 'OSAGE-ORANGE', 'SASSAFRAS',\n",
    "       'BIRCH, EUROPEAN WHITE', 'CHERRY, CORNELIAN', 'GOLDEN-CHAIN TREE',\n",
    "       'MAPLE, PAPERBACK', 'EASTERN HOP HORNBEAM', 'BIRCH, PAPER',\n",
    "       'TAMARACK', 'DOGWOOD, SILKY', 'ELM, ROCK', 'OAK, BLACK',\n",
    "       'OHIO BUCKEYE', 'SOURWOOD', 'PONDCYPRESS', 'BIRCH, RIVER',\n",
    "       'PINE, SCOTCH', 'OAK, POST', 'JUNIPER SPP.', 'QUAKING ASPEN',\n",
    "       'CORKSCREW WILLOW', 'CAROLINA SILVERBELL', 'MAPLE, TATARIAN',\n",
    "       'MAPLE, BLACK', 'TURKISH HAZELNUT', 'PINE, PITCH',\n",
    "       'ATLANTIC WHITECEDAR', 'BIRCH, YELLOW', 'CUCUMBER TREE',\n",
    "       'BALDCYPRESS SPECIES', 'PECAN', 'ELM, WINGED',\n",
    "       'DOGWOOD, ALTERNATE-LEAVED', 'HICKORY, PIGNUT', 'ASPEN, BIGTOOTH',\n",
    "       'WILLOW ?', 'RUSSIAN OLIVE', 'FIR, BALSAM', 'FIR, WHITE',\n",
    "       'PINE, MUGO', 'AMERICAN SMOKETREE', 'CHESTNUT, AMERICAN',\n",
    "       'MOUNTAINASH, KOREAN', 'FALSECYPRESS, JAPANESE', 'CEDAR, DEODAR',\n",
    "       'HICKORY, SHAGBARK'], dtype=object)"
   ]
  },
  {
   "cell_type": "code",
   "execution_count": 97,
   "metadata": {},
   "outputs": [
    {
     "name": "stdout",
     "output_type": "stream",
     "text": [
      "PEAR, CALLERY\n",
      "LONDON PLANETREE\n",
      "MAPLE, NORWAY-CR KNG\n",
      "HAWTHORN, OTHER\n",
      "MAPLE, NORWAY\n",
      "HONEYLOCUST\n",
      "LINDEN, LITTLE LEAF\n",
      "UNKNOWN\n",
      "GINKGO\n",
      "GOLDENRAIN TREE\n",
      "DOGWOOD, FLOWERING\n",
      "MAPLE, SYCAMORE\n",
      "MAPLE, RED\n",
      "PLUM, PURPLELEAF\n",
      "ZELKOVA, JAPANESE\n",
      "OAK, PIN\n",
      "ASH, GREEN\n",
      "JAPANESE TREE LILAC\n",
      "CHERRY, OTHER\n",
      "MAPLE, AMUR\n",
      "JAPANESE PAGODA TREE\n",
      "KATSURA TREE\n",
      "OAK, NORTHERN RED\n",
      "Unknown Dead\n",
      "ELM, AMERICAN\n",
      "ELM, CHINESE\n",
      "LINDEN, SILVER\n",
      "OAK, WHITE\n",
      "LINDEN, AMERICAN\n",
      "OAK, SWAMP WHITE\n",
      "TREE OF HEAVEN\n",
      "DAWN REDWOOD\n",
      "OAK, SAWTOOTH\n",
      "BLACK LOCUST\n",
      "OAK, WILLOW\n",
      "HORNBEAM, AMERICAN\n",
      "REDBUD, EASTERN\n",
      "KENTUCKY COFFEETREE\n",
      "CHOKECHERRY, SHUBERT\n",
      "MAPLE, SILVER\n",
      "HACKBERRY\n",
      "BALDCYPRESS\n",
      "HORNBEAM, EUROPEAN\n",
      "POPLAR, OTHER\n",
      "MAPLE, HEDGE\n",
      "MULBERRY\n",
      "ELM, OTHER\n",
      "MAPLE, JAPANESE\n",
      "MAGNOLIA, OTHER\n",
      "CRABAPPLE\n",
      "OAK, OTHER\n",
      "ELM, SIBERIAN\n",
      "SWEETGUM\n",
      "OAK, LAUREL\n",
      "HOLLY SPECIES\n",
      "OAK, ENGLISH\n",
      "TULIP TREE\n",
      "CHERRY, KWANZAN\n",
      "LINDEN, OTHER\n",
      "BIRCH, OTHER\n",
      "MAPLE, OTHER\n",
      "HORSECHESTNUT\n",
      "PINE, JAPANESE BLACK\n",
      "MAPLE, SUGAR\n",
      "PINE, EASTERN WHITE\n",
      "PINE, OTHER\n",
      "DOGWOOD, KOUSA\n",
      "SPRUCE, OTHER\n",
      "BOXELDER\n",
      "SERVICEBERRY, OTHER\n",
      "HEMLOCK, EASTERN\n",
      "OAK, TURKEY\n",
      "APPLE\n",
      "OAK, BUR\n",
      "PERSIMMON, COMMON\n",
      "HICKORY\n",
      "YELLOWOOD\n",
      "WILLOW SPECIES\n",
      "OAK, SCARLET\n",
      "ASH, OTHER\n",
      "SILVERBELL\n",
      "BEECH, AMERICAN\n",
      "ASH, WHITE\n",
      "DOUGLAS FIR\n",
      "SNOWBELL, JAPANESE\n",
      "SPRUCE, COLORADO\n",
      "ELM, ENGLISH\n",
      "PINE, RED\n",
      "CEDAR, ATLAS\n",
      "EASTERN REDCEDAR\n",
      "ARBORVITAE, EASTERN\n",
      "CATALPA\n",
      "SPRUCE, NORWAY\n",
      "CHESTNUT, CHINESE\n",
      "HARDY RUBBER TREE\n",
      "PEACH TREE\n",
      "COMMON PEAR\n",
      "CHERRY, BLACK\n",
      "BLACKGUM\n",
      "ALDER, EUROPEAN\n",
      "POPLAR, LOMBARDY\n",
      "COTTONWOOD, EASTERN\n",
      "OAK, SOUTHERN RED\n",
      "ELM, SLIPPERY\n",
      "AMUR CORKTREE\n",
      "MIMOSA\n",
      "DOGWOOD SPP.\n",
      "MAPLE, TRIDENT\n",
      "OAK, SHINGLE\n",
      "PINE, VIRGINIA\n",
      "WALNUT, BLACK\n",
      "DROOPING JUNIPER\n",
      "PINE, SHORTLEAF\n",
      "PINE, AUSTRIAN\n",
      "WITCH HAZEL\n",
      "BEECH, EUROPEAN\n",
      "HORSECHESTNUT, RED\n",
      "ROYAL PAULOWNIA\n",
      "MAACKIA,AMUR\n",
      "WEEPING WILLOW\n",
      "LARCH\n",
      "MOUNTAINASH, AMERICAN\n",
      "MAGNOLIA, SOUTHERN\n",
      "OSAGE-ORANGE\n",
      "SASSAFRAS\n",
      "BIRCH, EUROPEAN WHITE\n",
      "CHERRY, CORNELIAN\n",
      "GOLDEN-CHAIN TREE\n",
      "MAPLE, PAPERBACK\n",
      "EASTERN HOP HORNBEAM\n",
      "BIRCH, PAPER\n",
      "TAMARACK\n",
      "DOGWOOD, SILKY\n",
      "ELM, ROCK\n",
      "OAK, BLACK\n",
      "OHIO BUCKEYE\n",
      "SOURWOOD\n",
      "PONDCYPRESS\n",
      "BIRCH, RIVER\n",
      "PINE, SCOTCH\n",
      "OAK, POST\n",
      "JUNIPER SPP.\n",
      "QUAKING ASPEN\n",
      "CORKSCREW WILLOW\n",
      "CAROLINA SILVERBELL\n",
      "MAPLE, TATARIAN\n",
      "MAPLE, BLACK\n",
      "TURKISH HAZELNUT\n",
      "PINE, PITCH\n",
      "ATLANTIC WHITECEDAR\n",
      "BIRCH, YELLOW\n",
      "CUCUMBER TREE\n",
      "BALDCYPRESS SPECIES\n",
      "PECAN\n",
      "ELM, WINGED\n",
      "DOGWOOD, ALTERNATE-LEAVED\n",
      "HICKORY, PIGNUT\n",
      "ASPEN, BIGTOOTH\n",
      "WILLOW ?\n",
      "RUSSIAN OLIVE\n",
      "FIR, BALSAM\n",
      "FIR, WHITE\n",
      "PINE, MUGO\n",
      "AMERICAN SMOKETREE\n",
      "CHESTNUT, AMERICAN\n",
      "MOUNTAINASH, KOREAN\n",
      "FALSECYPRESS, JAPANESE\n",
      "CEDAR, DEODAR\n",
      "HICKORY, SHAGBARK\n"
     ]
    }
   ],
   "source": [
    "for name in common_names:\n",
    "    print(name)"
   ]
  },
  {
   "cell_type": "code",
   "execution_count": 98,
   "metadata": {},
   "outputs": [],
   "source": [
    "tree_groupOb = tree_data.groupby(\"spc_common\")"
   ]
  },
  {
   "cell_type": "code",
   "execution_count": 99,
   "metadata": {},
   "outputs": [
    {
     "data": {
      "text/plain": [
       "<pandas.core.groupby.generic.DataFrameGroupBy object at 0x7fdac1a80b50>"
      ]
     },
     "execution_count": 99,
     "metadata": {},
     "output_type": "execute_result"
    }
   ],
   "source": [
    "tree_groupOb"
   ]
  },
  {
   "cell_type": "code",
   "execution_count": 100,
   "metadata": {},
   "outputs": [],
   "source": [
    "list_groups = []\n",
    "one_group = []\n",
    "for group in tree_groupOb:\n",
    "    one_group = group\n",
    "    list_groups.append(one_group)"
   ]
  },
  {
   "cell_type": "code",
   "execution_count": 101,
   "metadata": {},
   "outputs": [],
   "source": [
    "count_groups = 0\n",
    "for list_item in list_groups:\n",
    "    count_groups = count_groups + 1"
   ]
  },
  {
   "cell_type": "code",
   "execution_count": 102,
   "metadata": {},
   "outputs": [
    {
     "data": {
      "text/plain": [
       "169"
      ]
     },
     "execution_count": 102,
     "metadata": {},
     "output_type": "execute_result"
    }
   ],
   "source": [
    "count_groups"
   ]
  },
  {
   "cell_type": "code",
   "execution_count": null,
   "metadata": {},
   "outputs": [],
   "source": []
  }
 ],
 "metadata": {
  "kernelspec": {
   "display_name": "Python 3",
   "language": "python",
   "name": "python3"
  },
  "language_info": {
   "codemirror_mode": {
    "name": "ipython",
    "version": 3
   },
   "file_extension": ".py",
   "mimetype": "text/x-python",
   "name": "python",
   "nbconvert_exporter": "python",
   "pygments_lexer": "ipython3",
   "version": "3.7.6"
  }
 },
 "nbformat": 4,
 "nbformat_minor": 4
}
